{
 "cells": [
  {
   "cell_type": "markdown",
   "id": "b0f27a80",
   "metadata": {},
   "source": [
    "# Welcome to spectral fitting with COSIpy classic\n",
    "\n",
    "In this notebook, we'll perform a spectral fit on the Crab nebula and Centaurus A using simulated balloon flight data.\n",
    "\n",
    "There are other simulated sources in the data set - Cygnus X-1, Vela, the 511 keV emission from positron annihilation and the Al-26 1.8 MeV decay line - but these are not explored in this notebook."
   ]
  },
  {
   "cell_type": "markdown",
   "id": "644d001a",
   "metadata": {},
   "source": [
    "## Import packages.\n",
    "\n",
    "We're using the COSIpy classic functions in COSIpy_dc1.py, response_dc1.py, and fit_dc1.py."
   ]
  },
  {
   "cell_type": "code",
   "execution_count": null,
   "id": "5e288c39",
   "metadata": {},
   "outputs": [],
   "source": [
    "from COSIpy_dc1 import *\n",
    "import response_dc1 as response\n",
    "from fit_dc1 import *"
   ]
  },
  {
   "cell_type": "markdown",
   "id": "5c0734c0",
   "metadata": {},
   "source": [
    "## Define file names.\n",
    "\n",
    "DC1_combined_10x.tra.gz is a simulation of 4 point sources (Crab, Cen A, Cyg X-1, Vela), the 511 keV & Al26 lines, and Ling background.\n",
    "\n",
    "CenA_BG_10x.tra.gz is a simulation of only Cen A and Ling background."
   ]
  },
  {
   "cell_type": "code",
   "execution_count": null,
   "id": "1f802109",
   "metadata": {},
   "outputs": [],
   "source": [
    "data_dir = '../data_products' # directory containing data & response files\n",
    "filename_combined = 'DC1_combined_10x.tra.gz' # combined simulation\n",
    "filename_cenA = 'CenA_BG_10x.tra.gz' # Cen A simulation\n",
    "response_filename = data_dir + '/Continuum_imaging_response.npz' # detector response\n",
    "background_filename = data_dir + '/Scaled_Ling_BG_1x.npz' # background response\n",
    "background_mode = 'from file'"
   ]
  },
  {
   "cell_type": "markdown",
   "id": "e4eaa5cc",
   "metadata": {},
   "source": [
    "## Define inputs.\n",
    "\n",
    "You can perform the spectral fit on another point source, such as Cyg X-1 or Vela, by changing the latitude and longitude"
   ]
  },
  {
   "cell_type": "code",
   "execution_count": null,
   "id": "3dfb9466",
   "metadata": {},
   "outputs": [],
   "source": [
    "l_crab,b_crab = 184.55746, -5.78436 # Galactic longitude & latitude of Crab\n",
    "l_cenA,b_cenA = 309.51584, 19.41709 # Galactic longitude & latitude of Cen A\n",
    "\n",
    "ul = 3 # SNR limit for upper limits on spectral fit"
   ]
  },
  {
   "cell_type": "markdown",
   "id": "f9554d91",
   "metadata": {},
   "source": [
    "## Read in simulation and define analysis object.\n",
    "\n",
    "Read in the data set and create the main cosipy-classic “analysis_combined\" object, which provides various functionalities to study the specified file. This cell usually takes a few minutes to run."
   ]
  },
  {
   "cell_type": "code",
   "execution_count": null,
   "id": "9d1673e4",
   "metadata": {},
   "outputs": [],
   "source": [
    "analysis_combined = COSIpy(data_dir,filename_combined) # create analysis object\n",
    "analysis_combined.read_COSI_DataSet() # read in data"
   ]
  },
  {
   "cell_type": "markdown",
   "id": "14c74a0e",
   "metadata": {},
   "source": [
    "# Bin the data\n",
    "The data are binned into time, energy, ϕ and FISBEL. FISBEL is a unique index which specifies the χ and ψ dimensions of the CDS.\n",
    "\n",
    "Calling \"get_binned_data()\" may take several minutes, depending on the size of the dataset and the number of bins. Keep an eye on memory here: if your time bins are very small, for example, this could be an expensive operation."
   ]
  },
  {
   "cell_type": "code",
   "execution_count": null,
   "id": "61d63bc2",
   "metadata": {},
   "outputs": [],
   "source": [
    "#Define the bin sizes\n",
    "Delta_T = 7200 # time bin size in seconds\n",
    "energy_bin_edges = np.array([150,  220,  325,  480,  520,  765, 1120, 1650, 2350, 3450, 5000]) # energy bin edges in keV\n",
    "pixel_size = 6. # pixel size in degrees\n",
    "\n",
    "analysis_combined.dataset.time_binning_tags(time_bin_size=Delta_T) # time binning\n",
    "analysis_combined.dataset.init_binning(energy_bin_edges=energy_bin_edges,pixel_size=pixel_size) # energy and pixel binning\n",
    "analysis_combined.dataset.get_binned_data() # bin data"
   ]
  },
  {
   "cell_type": "markdown",
   "id": "fee98e0b",
   "metadata": {},
   "source": [
    "## Examine the shape of the binned data.\n",
    "\n",
    "The binned data are contained in \"analysis_combined.dataset.binned_data\". This is a 4-dimensional object representing the 5 dimensions of the Compton data space (time, energy, ϕ, FISBEL).\n",
    "\n",
    "This prints the shape of the binned data, the total time in the dataset, the number of time bins that have counts in them, and the number of counts in each time bin. Due to this energy range being so background dominated, the number of counts in each bin is very similar."
   ]
  },
  {
   "cell_type": "code",
   "execution_count": null,
   "id": "9b1aff12",
   "metadata": {
    "scrolled": true,
    "tags": []
   },
   "outputs": [],
   "source": [
    "print('Number of bins in each dimension (time, energy, ϕ, FISBEL):')\n",
    "print(analysis_combined.dataset.binned_data.shape)\n",
    "print()\n",
    "print('Total time in dataset (s):')\n",
    "print(analysis_combined.dataset.times.total_time)\n",
    "print()\n",
    "print('Number of populated time bins:')\n",
    "print(analysis_combined.dataset.times.n_ph)\n",
    "print()\n",
    "print('Number of counts in each time bin: ')\n",
    "print(analysis_combined.dataset.times.n_ph_t)"
   ]
  },
  {
   "cell_type": "markdown",
   "id": "f52cf82e",
   "metadata": {},
   "source": [
    "## Plot  raw spectrum & light curve."
   ]
  },
  {
   "cell_type": "code",
   "execution_count": null,
   "id": "4c9b12d6",
   "metadata": {},
   "outputs": [],
   "source": [
    "analysis_combined.dataset.plot_raw_spectrum()\n",
    "plt.xscale('log')\n",
    "\n",
    "analysis_combined.dataset.plot_lightcurve()"
   ]
  },
  {
   "cell_type": "markdown",
   "id": "52ac27e0",
   "metadata": {},
   "source": [
    "## Define the pointing object with the COSIpy pointing class.\n",
    "\n",
    "The pointings refer to the direction/orientation of the telescope at each point in time. This cell usually takes a few minutes to run."
   ]
  },
  {
   "cell_type": "code",
   "execution_count": null,
   "id": "c971d763",
   "metadata": {},
   "outputs": [],
   "source": [
    "pointing_combined = Pointing(dataset=analysis_combined.dataset) # definition of pointings (balloon stability + Earth rotation)"
   ]
  },
  {
   "cell_type": "markdown",
   "id": "770538ed",
   "metadata": {},
   "source": [
    "## Visualize the paths of the Crab & Cen A through the field-of-view.\n",
    "\n",
    "This isn't necessary for the spectral fitting, but is illustrative for understanding the pointings and exposure of the point sources."
   ]
  },
  {
   "cell_type": "code",
   "execution_count": null,
   "id": "ef2e752e",
   "metadata": {},
   "outputs": [],
   "source": [
    "plt.plot(pointing_combined.zpoins[:,0]+360,pointing_combined.zpoins[:,1],'o', label=\"COSI zenith pointing\")\n",
    "plt.plot(l_crab,b_crab,'*g',markersize=10, label=\"Crab\")\n",
    "plt.plot(l_cenA,b_cenA,'*r',markersize=10, label=\"Cen A\")\n",
    "plt.xlabel('Longitude [deg]')\n",
    "plt.ylabel('Latitude [deg]')\n",
    "plt.legend()"
   ]
  },
  {
   "cell_type": "code",
   "execution_count": null,
   "id": "fffacde3",
   "metadata": {},
   "outputs": [],
   "source": [
    "analysis_combined.plot_elevation([l_crab],[b_crab],['Crab'])\n",
    "\n",
    "analysis_combined.plot_elevation([l_cenA],[b_cenA],['Cen A'])"
   ]
  },
  {
   "cell_type": "markdown",
   "id": "43966556",
   "metadata": {},
   "source": [
    "# Define the BG model."
   ]
  },
  {
   "cell_type": "code",
   "execution_count": null,
   "id": "431b879f",
   "metadata": {},
   "outputs": [],
   "source": [
    "# Ling BG simulation to model atmospheric background\n",
    "background_combined = BG(dataset=analysis_combined.dataset,mode=background_mode,filename=background_filename) # read in background"
   ]
  },
  {
   "cell_type": "markdown",
   "id": "7b04eaf8",
   "metadata": {},
   "source": [
    "# Read in the Response Matrix\n",
    "\n",
    "This usually takes a few minutes."
   ]
  },
  {
   "cell_type": "code",
   "execution_count": null,
   "id": "fbb0796f",
   "metadata": {},
   "outputs": [],
   "source": [
    "# continuum response\n",
    "rsp = response.SkyResponse(filename=response_filename,pixel_size=pixel_size) # read in detector response"
   ]
  },
  {
   "cell_type": "markdown",
   "id": "b4a5de88",
   "metadata": {},
   "source": [
    "## Explore the shape of the data space.\n",
    "\n",
    "The shape of the response spans (Galactic latitude $b$, Galactic longitude $\\ell$, Compton scattering angle $\\phi$, FISBEL, energy). The shape of the data and background objects span (time, energy, Compton scattering angle, FISBEL), as explained above."
   ]
  },
  {
   "cell_type": "code",
   "execution_count": null,
   "id": "3ba4e173",
   "metadata": {},
   "outputs": [],
   "source": [
    "print('Shape of response matrix (b, l, ϕ, FISBEL, energy):')\n",
    "print(rsp.rsp.response_grid_normed_efinal.shape)\n",
    "print()\n",
    "print('Shape of binned data (time, energy, ϕ, FISBEL):')\n",
    "print(analysis_combined.dataset.binned_data.shape)\n",
    "print()\n",
    "print('Shape of background model (time, energy, ϕ, FISBEL):')\n",
    "print(np.shape(background_combined.bg_model))"
   ]
  },
  {
   "cell_type": "markdown",
   "id": "f10f4ef2",
   "metadata": {},
   "source": [
    "# Calculate the point source response for the Crab."
   ]
  },
  {
   "cell_type": "code",
   "execution_count": null,
   "id": "114612b6",
   "metadata": {},
   "outputs": [],
   "source": [
    "rsp.calculate_PS_response(analysis_combined.dataset,pointing_combined,l_crab,b_crab,1,background=background_combined,pixel_size=pixel_size,lookup=False)"
   ]
  },
  {
   "cell_type": "markdown",
   "id": "b0d35fb2",
   "metadata": {},
   "source": [
    "## Plot light curves for the data, background & sky models.\n",
    "\n",
    "This is plotted for the 220-325 keV energy bin. The sky model is normalized to 1."
   ]
  },
  {
   "cell_type": "code",
   "execution_count": null,
   "id": "086c81ae",
   "metadata": {},
   "outputs": [],
   "source": [
    "plt.plot(np.sum(analysis_combined.dataset.binned_data[:,1,:,:],axis=(1,2)), label=\"Data\") # binned data light curve\n",
    "plt.plot(np.sum(background_combined.bg_model_reduced[1],axis=1), label=\"Background model\") # background model\n",
    "plt.plot(np.sum(rsp.sky_response[1],axis=1)*1000, label=\"Sky model\") # sky model\n",
    "plt.xlabel('Time Bins')\n",
    "plt.ylabel('Counts per Time Bin')\n",
    "plt.legend()"
   ]
  },
  {
   "cell_type": "markdown",
   "id": "d9228957",
   "metadata": {},
   "source": [
    "# Extract the spectrum for the Crab.\n",
    "\n",
    "For each energy bin individually, this determines the coefficients for the sky and background models that best match the data. It can take a few hours to run!"
   ]
  },
  {
   "cell_type": "code",
   "execution_count": null,
   "id": "e368c0c6",
   "metadata": {
    "scrolled": true,
    "tags": []
   },
   "outputs": [],
   "source": [
    "result_crab = fit(analysis_combined.dataset,pointing_combined,rsp,background_combined) # create fitting object\n",
    "result_crab.fit(iters=2000) # perform spectral fit using emcee (uses pointing definition, background model, & point source response)"
   ]
  },
  {
   "cell_type": "markdown",
   "id": "1919d52e",
   "metadata": {},
   "source": [
    "## Plot the final count spectrum of the Crab.\n",
    "\n",
    "Below is the spectrum (in counts/keV) of the Crab nebula!\n",
    "\n",
    "The fitted value for the 480-520 keV bin is a bit low, which is likely due to the 511 keV line in the simulation.\n",
    "\n",
    "The extracted spectrum data is saved as a .dat file."
   ]
  },
  {
   "cell_type": "code",
   "execution_count": null,
   "id": "7435d206",
   "metadata": {},
   "outputs": [],
   "source": [
    "result_crab.plot_extracted_spectrum('crab_spectrum.dat')"
   ]
  },
  {
   "cell_type": "markdown",
   "id": "47f4b1d1",
   "metadata": {},
   "source": [
    "# Analysis of Cen A\n",
    "\n",
    "Now that we have successfully recovered the Crab spectrum from the full flight simulation, we will look at a slightly weaker source and discover some of the limitations with the current COSIpy classic implementation.\n",
    "\n",
    "Since we’ve already loaded the COSI-balloon simulated data, response matrix and background model, we only need to redefine the point source sky model using Cen A’s coordinates and repeat the fit."
   ]
  },
  {
   "cell_type": "markdown",
   "id": "d833fa16",
   "metadata": {},
   "source": [
    "## Calculate the point source response for Cen A."
   ]
  },
  {
   "cell_type": "code",
   "execution_count": null,
   "id": "d886441d",
   "metadata": {},
   "outputs": [],
   "source": [
    "rsp.calculate_PS_response(analysis_combined.dataset,pointing_combined,l_cenA,b_cenA,1,background=background_combined,pixel_size=pixel_size,lookup=False)"
   ]
  },
  {
   "cell_type": "markdown",
   "id": "9344c62c",
   "metadata": {},
   "source": [
    "## Extract the spectrum for Cen A.\n",
    "\n",
    "This can take a few hours to run!"
   ]
  },
  {
   "cell_type": "code",
   "execution_count": null,
   "id": "5c23aea0",
   "metadata": {
    "scrolled": true,
    "tags": []
   },
   "outputs": [],
   "source": [
    "result_cenA = fit(analysis_combined.dataset,pointing_combined,rsp,background_combined) # create fitting object\n",
    "result_cenA.fit(iters=2000) # perform spectral fit using emcee (uses pointing definition, background model, & point source response)"
   ]
  },
  {
   "cell_type": "markdown",
   "id": "c039286b",
   "metadata": {},
   "source": [
    "## Plot the spectrum of Cen A.\n",
    "\n",
    "Below is the spectrum (in counts/keV) of the Cen A, with the extracted spectrum data saved as a .dat file.\n",
    "\n",
    "The first plot includes error bars on each point, and the second shows upper limits where the signal-to-noise ratio (SNR) > 3.\n",
    "\n",
    "The error bars for Cen A are very large, and almost all energy bins have upper limits. We believe this is due to the Crab's brightness interfering with the fit. To fix this, we need to include the Crab in the background model. Because the elevation of the Crab in COSI's field of view is changing over time, our background model would now be time-dependent. However, our current fitting algorithm only includes one background parameter, so we cannot handle a time-dependent background. Future versions of COSIpy will fix this issue."
   ]
  },
  {
   "cell_type": "code",
   "execution_count": null,
   "id": "46d164bc",
   "metadata": {},
   "outputs": [],
   "source": [
    "result_cenA.plot_extracted_spectrum('cenA_spectrum1.dat')\n",
    "result_cenA.plot_extracted_spectrum('cenA_spectrum1.dat',ul=ul)"
   ]
  },
  {
   "cell_type": "markdown",
   "id": "dd5475f7",
   "metadata": {},
   "source": [
    "## Read in Cen A simulation and define analysis object.\n",
    "\n",
    "To investigate why the fit is failing using the combined simulation, we will redo the Cen A analysis, but we will use a simulation that excludes the Crab and all other sources. The 'CenA_BG_10x.tra.gz' file includes only Cen A and the Ling background, and by repeating the above analysis, we will show that we can recover the Cen A count spectrum when the background model is static. For this analysis, we will only include the required cells. Please refer to the Crab analysis above for the details of each step.\n",
    "\n",
    "This cell usually takes a few minutes to run."
   ]
  },
  {
   "cell_type": "code",
   "execution_count": null,
   "id": "abe7803a",
   "metadata": {},
   "outputs": [],
   "source": [
    "analysis_cenA = COSIpy(data_dir,filename_cenA) # create analysis object\n",
    "analysis_cenA.read_COSI_DataSet() # read in data"
   ]
  },
  {
   "cell_type": "markdown",
   "id": "0e543b96",
   "metadata": {},
   "source": [
    "## Bin the data."
   ]
  },
  {
   "cell_type": "code",
   "execution_count": null,
   "id": "dfa93fd7",
   "metadata": {},
   "outputs": [],
   "source": [
    "analysis_cenA.dataset.time_binning_tags(time_bin_size=Delta_T) # time binning\n",
    "analysis_cenA.dataset.init_binning(energy_bin_edges=energy_bin_edges,pixel_size=pixel_size) # energy and pixel binning\n",
    "analysis_cenA.dataset.get_binned_data() # bin data"
   ]
  },
  {
   "cell_type": "markdown",
   "id": "4dbfcdbf",
   "metadata": {},
   "source": [
    "## Define the pointing object.\n",
    "\n",
    "This cell usually takes a few minutes to run"
   ]
  },
  {
   "cell_type": "code",
   "execution_count": null,
   "id": "a2f70a98",
   "metadata": {},
   "outputs": [],
   "source": [
    "pointing_cenA = Pointing(dataset=analysis_cenA.dataset)"
   ]
  },
  {
   "cell_type": "markdown",
   "id": "6a92c1c3",
   "metadata": {},
   "source": [
    "## Define the background model."
   ]
  },
  {
   "cell_type": "code",
   "execution_count": null,
   "id": "bf84ad9e",
   "metadata": {},
   "outputs": [],
   "source": [
    "background_cenA = BG(dataset=analysis_cenA.dataset,mode=background_mode,filename=background_filename) # read in background"
   ]
  },
  {
   "cell_type": "markdown",
   "id": "88f3a996",
   "metadata": {},
   "source": [
    "## Calculate the point source response for Cen A."
   ]
  },
  {
   "cell_type": "code",
   "execution_count": null,
   "id": "ed85434e",
   "metadata": {},
   "outputs": [],
   "source": [
    "rsp.calculate_PS_response(analysis_cenA.dataset,pointing_cenA,l_cenA,b_cenA,1,background=background_cenA,pixel_size=pixel_size,lookup=False)"
   ]
  },
  {
   "cell_type": "markdown",
   "id": "50204ade",
   "metadata": {},
   "source": [
    "## Plot light curves for data, background & sky models.\n",
    "\n",
    "This is plotted for the 220-325 keV energy bin. The sky model is normalized to 1.\n",
    "\n",
    "You can see that the data rates appear flatter here compared to the light curve above for the combined simulation. The Crab was mainly in COSI's field of view during the second half of the flight, and since we no longer have those additional counts, there is less variation in this light curve and sky model."
   ]
  },
  {
   "cell_type": "code",
   "execution_count": null,
   "id": "0ca701e9",
   "metadata": {},
   "outputs": [],
   "source": [
    "plt.plot(np.sum(analysis_cenA.dataset.binned_data[:,1,:,:],axis=(1,2)), label=\"Data\") # binned data light curve\n",
    "plt.plot(np.sum(background_cenA.bg_model_reduced[1],axis=1), label=\"Background model\") # background model\n",
    "plt.plot(np.sum(rsp.sky_response[1],axis=1)*1000, label=\"Sky model\") # sky model\n",
    "plt.xlabel('Time Bins')\n",
    "plt.ylabel('Counts per Time Bin')\n",
    "plt.legend()"
   ]
  },
  {
   "cell_type": "markdown",
   "id": "4354e97c",
   "metadata": {},
   "source": [
    "## Extract the spectrum for Cen A.\n",
    "\n",
    "This can take a few hours to run!"
   ]
  },
  {
   "cell_type": "code",
   "execution_count": null,
   "id": "adf06888",
   "metadata": {
    "scrolled": true,
    "tags": []
   },
   "outputs": [],
   "source": [
    "result_cenA2 = fit(analysis_cenA.dataset,pointing_cenA,rsp,background_cenA) # create fitting object\n",
    "result_cenA2.fit(iters=2000) # perform spectral fit using emcee (uses pointing definition, background model, & point source response)"
   ]
  },
  {
   "cell_type": "markdown",
   "id": "d8aa056b",
   "metadata": {},
   "source": [
    "## Plot the final count spectrum of Cen A.\n",
    "\n",
    "Below is the spectrum (in counts/keV) of Centaurus A!\n",
    "\n",
    "When we use a simulation of only Cen A and background, we are able to recover the correct spectrum. This emphasizes the need for more sophisticated background models which include time variability and bright sources, and this will be a focus for the next Data Challenge."
   ]
  },
  {
   "cell_type": "code",
   "execution_count": null,
   "id": "23a56f50",
   "metadata": {},
   "outputs": [],
   "source": [
    "result_cenA2.plot_extracted_spectrum('cenA_only_spectrum1.dat')\n",
    "result_cenA2.plot_extracted_spectrum('cenA_only_spectrum1.dat',ul=ul)"
   ]
  }
 ],
 "metadata": {
  "kernelspec": {
   "display_name": "Python 3",
   "language": "python",
   "name": "python3"
  },
  "language_info": {
   "codemirror_mode": {
    "name": "ipython",
    "version": 3
   },
   "file_extension": ".py",
   "mimetype": "text/x-python",
   "name": "python",
   "nbconvert_exporter": "python",
   "pygments_lexer": "ipython3",
   "version": "3.8.10"
  }
 },
 "nbformat": 4,
 "nbformat_minor": 5
}
