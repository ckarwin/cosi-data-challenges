{
 "cells": [
  {
   "cell_type": "markdown",
   "id": "b0f27a80",
   "metadata": {},
   "source": [
    "# Welcome to spectral fitting with COSIpy classic\n",
    "\n",
    "In this notebook, we'll perform a spectral fit of the Crab nebula using the 2016 balloon flight data."
   ]
  },
  {
   "cell_type": "markdown",
   "id": "644d001a",
   "metadata": {},
   "source": [
    "## Import packages.\n",
    "\n",
    "We're using the COSIpy classic functions in COSIpy_dc1.py, response_dc1.py, and fit_dc1.py."
   ]
  },
  {
   "cell_type": "code",
   "execution_count": null,
   "id": "5e288c39",
   "metadata": {},
   "outputs": [],
   "source": [
    "from COSIpy_dc1 import *\n",
    "import response_dc1 as response\n",
    "from fit_dc1 import *"
   ]
  },
  {
   "cell_type": "markdown",
   "id": "5c0734c0",
   "metadata": {},
   "source": [
    "## Define file names."
   ]
  },
  {
   "cell_type": "code",
   "execution_count": null,
   "id": "1f802109",
   "metadata": {},
   "outputs": [],
   "source": [
    "data_dir = '../../data_products' # directory containing data & response files\n",
    "filename_data = 'Crab_COSIBalloonData.tra.gz' # 2016 balloon data\n",
    "response_filename = data_dir + '/Continuum_imaging_response.npz' # detector response\n",
    "background_filename = data_dir + '/Scaled_Ling_BG_1x.npz' # background response\n",
    "background_mode = 'from file'"
   ]
  },
  {
   "cell_type": "markdown",
   "id": "e4eaa5cc",
   "metadata": {},
   "source": [
    "## Define inputs."
   ]
  },
  {
   "cell_type": "code",
   "execution_count": null,
   "id": "3dfb9466",
   "metadata": {},
   "outputs": [],
   "source": [
    "l_crab,b_crab = 184.55746, -5.78436 # Galactic longitude & latitude of Crab\n",
    "\n",
    "ul = 3 # SNR limit for upper limits on spectral fit"
   ]
  },
  {
   "cell_type": "markdown",
   "id": "f9554d91",
   "metadata": {},
   "source": [
    "## Read in data and define analysis object.\n",
    "\n",
    "Read in the data set and create the main cosipy-classic “analysis_data\" object, which provides various functionalities to study the specified file. This cell usually takes a few minutes to run."
   ]
  },
  {
   "cell_type": "code",
   "execution_count": null,
   "id": "9d1673e4",
   "metadata": {},
   "outputs": [],
   "source": [
    "analysis_data = COSIpy(data_dir,filename_data) # create analysis object\n",
    "analysis_data.read_COSI_DataSet() # read in data"
   ]
  },
  {
   "cell_type": "markdown",
   "id": "14c74a0e",
   "metadata": {},
   "source": [
    "# Bin the data\n",
    "The data are binned into time, energy, ϕ and FISBEL. FISBEL is a unique index which specifies the χ and ψ dimensions of the CDS.\n",
    "\n",
    "Calling \"get_binned_data()\" may take several minutes, depending on the size of the dataset and the number of bins. Keep an eye on memory here: if your time bins are very small, for example, this could be an expensive operation."
   ]
  },
  {
   "cell_type": "code",
   "execution_count": null,
   "id": "61d63bc2",
   "metadata": {},
   "outputs": [],
   "source": [
    "#Define the bin sizes\n",
    "Delta_T = 7200 # time bin size in seconds\n",
    "energy_bin_edges = np.array([150,  220,  325,  480,  520,  765, 1120, 1650, 2350, 3450, 5000]) # energy bin edges in keV\n",
    "pixel_size = 6. # pixel size in degrees\n",
    "\n",
    "analysis_data.dataset.time_binning_tags(time_bin_size=Delta_T) # time binning\n",
    "analysis_data.dataset.init_binning(energy_bin_edges=energy_bin_edges,pixel_size=pixel_size) # energy and pixel binning\n",
    "analysis_data.dataset.get_binned_data() # bin data"
   ]
  },
  {
   "cell_type": "markdown",
   "id": "fee98e0b",
   "metadata": {},
   "source": [
    "## Examine the shape of the binned data.\n",
    "\n",
    "The binned data are contained in \"analysis_combined.dataset.binned_data\". This is a 4-dimensional object representing the 5 dimensions of the Compton data space (time, energy, ϕ, FISBEL).\n",
    "\n",
    "This prints the shape of the binned data, the total time in the dataset, the number of time bins that have counts in them, and the number of counts in each time bin. Due to this energy range being so background dominated, the number of counts in each bin is very similar."
   ]
  },
  {
   "cell_type": "code",
   "execution_count": null,
   "id": "9b1aff12",
   "metadata": {
    "scrolled": true,
    "tags": []
   },
   "outputs": [],
   "source": [
    "print('Number of bins in each dimension (time, energy, ϕ, FISBEL):')\n",
    "print(analysis_data.dataset.binned_data.shape)\n",
    "print()\n",
    "print('Total time in dataset (s):')\n",
    "print(analysis_data.dataset.times.total_time)\n",
    "print()\n",
    "print('Number of populated time bins:')\n",
    "print(analysis_data.dataset.times.n_ph)\n",
    "print()\n",
    "print('Number of counts in each time bin: ')\n",
    "print(analysis_data.dataset.times.n_ph_t)"
   ]
  },
  {
   "cell_type": "markdown",
   "id": "f52cf82e",
   "metadata": {},
   "source": [
    "## Plot  raw spectrum & light curve."
   ]
  },
  {
   "cell_type": "code",
   "execution_count": null,
   "id": "4c9b12d6",
   "metadata": {},
   "outputs": [],
   "source": [
    "analysis_data.dataset.plot_raw_spectrum()\n",
    "plt.xscale('log')\n",
    "\n",
    "analysis_data.dataset.plot_lightcurve()"
   ]
  },
  {
   "cell_type": "markdown",
   "id": "52ac27e0",
   "metadata": {},
   "source": [
    "## Define the pointing object with the COSIpy pointing class.\n",
    "\n",
    "The pointings refer to the direction/orientation of the telescope at each point in time. This cell usually takes a few minutes to run."
   ]
  },
  {
   "cell_type": "code",
   "execution_count": null,
   "id": "c971d763",
   "metadata": {},
   "outputs": [],
   "source": [
    "pointing_data = Pointing(dataset=analysis_data.dataset) # definition of pointings (balloon stability + Earth rotation)"
   ]
  },
  {
   "cell_type": "markdown",
   "id": "770538ed",
   "metadata": {},
   "source": [
    "## Visualize the paths of the Crab through the field-of-view.\n",
    "\n",
    "This isn't necessary for the spectral fitting, but is illustrative for understanding the pointings and exposure of the point source."
   ]
  },
  {
   "cell_type": "code",
   "execution_count": null,
   "id": "ef2e752e",
   "metadata": {},
   "outputs": [],
   "source": [
    "plt.plot(pointing_data.zpoins[:,0]+360,pointing_data.zpoins[:,1],'o', label=\"COSI zenith pointing\")\n",
    "plt.plot(l_crab,b_crab,'*g',markersize=10, label=\"Crab\")\n",
    "plt.xlabel('Longitude [deg]')\n",
    "plt.ylabel('Latitude [deg]')\n",
    "plt.legend()"
   ]
  },
  {
   "cell_type": "code",
   "execution_count": null,
   "id": "fffacde3",
   "metadata": {},
   "outputs": [],
   "source": [
    "analysis_data.plot_elevation([l_crab],[b_crab],['Crab'])"
   ]
  },
  {
   "cell_type": "markdown",
   "id": "43966556",
   "metadata": {
    "tags": []
   },
   "source": [
    "# Define a tracer.\n",
    "Since background of the balloon data varies with time, here we define a \"tracer\" for our background model. \n",
    "The tracer normalizes the background model to the data in each time bin. "
   ]
  },
  {
   "cell_type": "code",
   "execution_count": null,
   "id": "552f7666-1cc5-4241-8da4-fc8d951d2fad",
   "metadata": {
    "tags": []
   },
   "outputs": [],
   "source": [
    "# Define tracer\n",
    "tracer = np.sum(analysis_data.dataset.binned_data,axis=(1,2,3))\n",
    "tracer = tracer/np.mean(tracer)"
   ]
  },
  {
   "cell_type": "markdown",
   "id": "fac885bd-220e-4daf-a95f-9c08ff6d03c6",
   "metadata": {
    "tags": []
   },
   "source": [
    "# Define the BG model."
   ]
  },
  {
   "cell_type": "code",
   "execution_count": null,
   "id": "e6994c89-aee7-4e24-817e-4b2e9d770cb8",
   "metadata": {
    "tags": []
   },
   "outputs": [],
   "source": [
    "# Ling BG simulation to model atmospheric background\n",
    "background_data = BG(dataset=analysis_data.dataset,mode=background_mode,filename=background_filename,tracer=tracer) # read in background"
   ]
  },
  {
   "cell_type": "markdown",
   "id": "7b04eaf8",
   "metadata": {},
   "source": [
    "# Read in the Response Matrix\n",
    "\n",
    "This usually takes a few minutes."
   ]
  },
  {
   "cell_type": "code",
   "execution_count": null,
   "id": "fbb0796f",
   "metadata": {},
   "outputs": [],
   "source": [
    "# continuum response\n",
    "rsp = response.SkyResponse(filename=response_filename,pixel_size=pixel_size) # read in detector response"
   ]
  },
  {
   "cell_type": "markdown",
   "id": "b4a5de88",
   "metadata": {},
   "source": [
    "## Explore the shape of the data space.\n",
    "\n",
    "The shape of the response spans (Galactic latitude $b$, Galactic longitude $\\ell$, Compton scattering angle $\\phi$, FISBEL, energy). The shape of the data and background objects span (time, energy, Compton scattering angle, FISBEL), as explained above."
   ]
  },
  {
   "cell_type": "code",
   "execution_count": null,
   "id": "3ba4e173",
   "metadata": {},
   "outputs": [],
   "source": [
    "print('Shape of response matrix (b, l, ϕ, FISBEL, energy):')\n",
    "print(rsp.rsp.response_grid_normed_efinal.shape)\n",
    "print()\n",
    "print('Shape of binned data (time, energy, ϕ, FISBEL):')\n",
    "print(analysis_data.dataset.binned_data.shape)\n",
    "print()\n",
    "print('Shape of background model (time, energy, ϕ, FISBEL):')\n",
    "print(np.shape(background_data.bg_model))"
   ]
  },
  {
   "cell_type": "markdown",
   "id": "f10f4ef2",
   "metadata": {},
   "source": [
    "# Calculate the point source response for the Crab."
   ]
  },
  {
   "cell_type": "code",
   "execution_count": null,
   "id": "114612b6",
   "metadata": {},
   "outputs": [],
   "source": [
    "rsp.calculate_PS_response(analysis_data.dataset,pointing_data,l_crab,b_crab,1,background=background_data,pixel_size=pixel_size,lookup=False)"
   ]
  },
  {
   "cell_type": "markdown",
   "id": "b0d35fb2",
   "metadata": {},
   "source": [
    "## Plot light curves for the data, background & sky models.\n",
    "\n",
    "This is plotted for the 220-325 keV energy bin. The sky model is normalized to 1."
   ]
  },
  {
   "cell_type": "code",
   "execution_count": null,
   "id": "086c81ae",
   "metadata": {},
   "outputs": [],
   "source": [
    "plt.plot(np.sum(analysis_data.dataset.binned_data[:,1,:,:],axis=(1,2)), label=\"Data\") # binned data light curve\n",
    "plt.plot(np.sum(background_data.bg_model_reduced[1],axis=1), label=\"Background model\") # background model\n",
    "plt.plot(np.sum(rsp.sky_response[1],axis=1)*1000, label=\"Sky model\") # sky model\n",
    "plt.xlabel('Time Bins')\n",
    "plt.ylabel('Counts per Time Bin')\n",
    "plt.legend()"
   ]
  },
  {
   "cell_type": "markdown",
   "id": "d9228957",
   "metadata": {},
   "source": [
    "# Extract the spectrum for the Crab.\n",
    "\n",
    "For each energy bin individually, this determines the coefficients for the sky and background models that best match the data. It can take a few hours to run!"
   ]
  },
  {
   "cell_type": "code",
   "execution_count": null,
   "id": "e368c0c6",
   "metadata": {
    "scrolled": true,
    "tags": []
   },
   "outputs": [],
   "source": [
    "result_crab = fit(analysis_data.dataset,pointing_data,rsp,background_data) # create fitting object\n",
    "result_crab.fit(iters=2000) # perform spectral fit using emcee (uses pointing definition, background model, & point source response)"
   ]
  },
  {
   "cell_type": "markdown",
   "id": "1919d52e",
   "metadata": {},
   "source": [
    "## Plot the final count spectrum of the Crab.\n",
    "\n",
    "Below is the spectrum (in counts/keV) of the Crab nebula!\n",
    "\n",
    "The extracted spectrum data is saved as a .dat file."
   ]
  },
  {
   "cell_type": "code",
   "execution_count": null,
   "id": "7435d206",
   "metadata": {},
   "outputs": [],
   "source": [
    "result_crab.plot_extracted_spectrum('crab_spectrum.dat')\n",
    "result_crab.plot_extracted_spectrum('crab_spectrum.dat',ul=3)"
   ]
  }
 ],
 "metadata": {
  "kernelspec": {
   "display_name": "Python 3",
   "language": "python",
   "name": "python3"
  },
  "language_info": {
   "codemirror_mode": {
    "name": "ipython",
    "version": 3
   },
   "file_extension": ".py",
   "mimetype": "text/x-python",
   "name": "python",
   "nbconvert_exporter": "python",
   "pygments_lexer": "ipython3",
   "version": "3.8.10"
  }
 },
 "nbformat": 4,
 "nbformat_minor": 5
}
